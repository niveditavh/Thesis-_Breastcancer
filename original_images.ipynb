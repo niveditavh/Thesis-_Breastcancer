{
 "cells": [
  {
   "cell_type": "code",
   "execution_count": 20,
   "id": "5c727890",
   "metadata": {},
   "outputs": [],
   "source": [
    "import os\n",
    "import numpy as np\n",
    "import pandas as pd\n",
    "\n",
    "import tensorflow as tf\n",
    "import tensorflow_hub as hub\n",
    "from tensorflow.keras import layers\n",
    "from tensorflow.keras.models import Model\n",
    "import tensorflow_addons as tfa\n",
    "\n",
    "from sklearn.metrics import *\n",
    "import scikitplot as skplt\n",
    "\n",
    "from functools import partial\n",
    "import albumentations as A\n",
    "import matplotlib.pyplot as plt\n",
    "import seaborn as sns\n",
    "\n",
    "AUTOTUNE = tf.data.experimental.AUTOTUNE\n",
    "data = pd.read_csv('D:/semester3/original/Folds.csv')\n",
    "img_dir = 'D:/semester3/original/'\n",
    "class_names = ['benign', 'malignant']"
   ]
  },
  {
   "cell_type": "code",
   "execution_count": 21,
   "id": "5deee238",
   "metadata": {},
   "outputs": [
    {
     "data": {
      "text/html": [
       "<div>\n",
       "<style scoped>\n",
       "    .dataframe tbody tr th:only-of-type {\n",
       "        vertical-align: middle;\n",
       "    }\n",
       "\n",
       "    .dataframe tbody tr th {\n",
       "        vertical-align: top;\n",
       "    }\n",
       "\n",
       "    .dataframe thead th {\n",
       "        text-align: right;\n",
       "    }\n",
       "</style>\n",
       "<table border=\"1\" class=\"dataframe\">\n",
       "  <thead>\n",
       "    <tr style=\"text-align: right;\">\n",
       "      <th></th>\n",
       "      <th>fold</th>\n",
       "      <th>mag</th>\n",
       "      <th>grp</th>\n",
       "      <th>path</th>\n",
       "      <th>label</th>\n",
       "      <th>label_int</th>\n",
       "      <th>filename</th>\n",
       "    </tr>\n",
       "  </thead>\n",
       "  <tbody>\n",
       "    <tr>\n",
       "      <th>0</th>\n",
       "      <td>1</td>\n",
       "      <td>100</td>\n",
       "      <td>train</td>\n",
       "      <td>BreaKHis_v1/histology_slides/breast/benign/SOB...</td>\n",
       "      <td>benign</td>\n",
       "      <td>0</td>\n",
       "      <td>SOB_B_A-14-22549AB-100-001.png</td>\n",
       "    </tr>\n",
       "    <tr>\n",
       "      <th>1</th>\n",
       "      <td>1</td>\n",
       "      <td>100</td>\n",
       "      <td>train</td>\n",
       "      <td>BreaKHis_v1/histology_slides/breast/benign/SOB...</td>\n",
       "      <td>benign</td>\n",
       "      <td>0</td>\n",
       "      <td>SOB_B_A-14-22549AB-100-002.png</td>\n",
       "    </tr>\n",
       "    <tr>\n",
       "      <th>2</th>\n",
       "      <td>1</td>\n",
       "      <td>100</td>\n",
       "      <td>train</td>\n",
       "      <td>BreaKHis_v1/histology_slides/breast/benign/SOB...</td>\n",
       "      <td>benign</td>\n",
       "      <td>0</td>\n",
       "      <td>SOB_B_A-14-22549AB-100-003.png</td>\n",
       "    </tr>\n",
       "  </tbody>\n",
       "</table>\n",
       "</div>"
      ],
      "text/plain": [
       "   fold  mag    grp                                               path  \\\n",
       "0     1  100  train  BreaKHis_v1/histology_slides/breast/benign/SOB...   \n",
       "1     1  100  train  BreaKHis_v1/histology_slides/breast/benign/SOB...   \n",
       "2     1  100  train  BreaKHis_v1/histology_slides/breast/benign/SOB...   \n",
       "\n",
       "    label  label_int                        filename  \n",
       "0  benign          0  SOB_B_A-14-22549AB-100-001.png  \n",
       "1  benign          0  SOB_B_A-14-22549AB-100-002.png  \n",
       "2  benign          0  SOB_B_A-14-22549AB-100-003.png  "
      ]
     },
     "execution_count": 21,
     "metadata": {},
     "output_type": "execute_result"
    }
   ],
   "source": [
    "data = data.rename(columns={'filename':'path'})\n",
    "data['label'] = data.path.apply(lambda x: x.split('/')[3])\n",
    "data['label_int'] = data.label.apply(lambda x: class_names.index(x))\n",
    "data['filename'] = data.path.apply(lambda x: x.split('/')[-1])\n",
    "data.head(3)"
   ]
  },
  {
   "cell_type": "code",
   "execution_count": 22,
   "id": "69e128ab",
   "metadata": {},
   "outputs": [
    {
     "name": "stdout",
     "output_type": "stream",
     "text": [
      "Count of Benign    :  12400\n",
      "Count of Malignant :  27145\n"
     ]
    },
    {
     "data": {
      "image/png": "[encoded data removed]",
      "text/plain": [
       "<Figure size 360x360 with 1 Axes>"
      ]
     },
     "metadata": {
      "needs_background": "light"
     },
     "output_type": "display_data"
    }
   ],
   "source": [
    "ax = sns.displot(data=data, x='label')\n",
    "print('Count of Benign    : ', data[data.label == 'benign'].label.count())\n",
    "print('Count of Malignant : ', data[data.label == 'malignant'].label.count())"
   ]
  },
  {
   "cell_type": "code",
   "execution_count": 24,
   "id": "44829933",
   "metadata": {},
   "outputs": [
    {
     "name": "stdout",
     "output_type": "stream",
     "text": [
      "     fold  mag    grp                                               path  \\\n",
      "0       1  100  train  BreaKHis_v1/histology_slides/breast/benign/SOB...   \n",
      "1       1  100  train  BreaKHis_v1/histology_slides/breast/benign/SOB...   \n",
      "2       1  100  train  BreaKHis_v1/histology_slides/breast/benign/SOB...   \n",
      "3       1  100  train  BreaKHis_v1/histology_slides/breast/benign/SOB...   \n",
      "4       1  100  train  BreaKHis_v1/histology_slides/breast/benign/SOB...   \n",
      "..    ...  ...    ...                                                ...   \n",
      "595     1  100   test  BreaKHis_v1/histology_slides/breast/malignant/...   \n",
      "596     2  100   test  BreaKHis_v1/histology_slides/breast/malignant/...   \n",
      "597     1  200  train  BreaKHis_v1/histology_slides/breast/malignant/...   \n",
      "598     1  400  train  BreaKHis_v1/histology_slides/breast/malignant/...   \n",
      "599     4   40  train  BreaKHis_v1/histology_slides/breast/malignant/...   \n",
      "\n",
      "         label  label_int                        filename    set  \n",
      "0       benign          0  SOB_B_A-14-22549AB-100-001.png  train  \n",
      "1       benign          0  SOB_B_A-14-22549AB-100-002.png  train  \n",
      "2       benign          0  SOB_B_A-14-22549AB-100-003.png  train  \n",
      "3       benign          0  SOB_B_A-14-22549AB-100-004.png  train  \n",
      "4       benign          0  SOB_B_A-14-22549AB-100-005.png  train  \n",
      "..         ...        ...                             ...    ...  \n",
      "595  malignant          1   SOB_M_DC-14-17915-100-012.png   test  \n",
      "596  malignant          1   SOB_M_MC-14-16456-100-012.png   test  \n",
      "597  malignant          1   SOB_M_DC-14-13412-200-008.png   test  \n",
      "598  malignant          1   SOB_M_DC-14-16448-400-002.png   test  \n",
      "599  malignant          1    SOB_M_MC-14-13413-40-022.png   test  \n",
      "\n",
      "[39545 rows x 8 columns]\n",
      "Training set\n",
      "malignant    21504\n",
      "benign        9652\n",
      "Name: label, dtype: int64\n",
      "\n",
      "Validation set\n",
      "malignant    5341\n",
      "benign       2448\n",
      "Name: label, dtype: int64\n",
      "\n",
      "Test set\n",
      "benign       300\n",
      "malignant    300\n",
      "Name: label, dtype: int64\n"
     ]
    }
   ],
   "source": [
    "\n",
    "test_df = data.groupby('label').sample(n=300)\n",
    "train_df = data.drop(test_df.index).reset_index(drop=True)\n",
    "test_df = test_df.reset_index(drop=True)\n",
    "\n",
    "# split training and validation set\n",
    "valid_df = train_df.sample(frac=0.2)\n",
    "train_df = train_df.drop(valid_df.index).reset_index(drop=True)\n",
    "valid_df = valid_df.reset_index(drop=True)\n",
    "\n",
    "test_df['set'] = 'test'\n",
    "train_df['set'] = 'train'\n",
    "valid_df['set'] = 'valid'\n",
    "data_new = pd.concat([train_df,valid_df, test_df])\n",
    "print(data_new)\n",
    "\n",
    "# ax = sns.displot(data=data_new, x='label', col='set')\n",
    "\n",
    "print('Training set')\n",
    "print(train_df.label.value_counts())\n",
    "\n",
    "print('\\nValidation set')\n",
    "print(valid_df.label.value_counts())\n",
    "\n",
    "print('\\nTest set')\n",
    "print(test_df.label.value_counts())\n"
   ]
  },
  {
   "cell_type": "code",
   "execution_count": 25,
   "id": "80dd88a5",
   "metadata": {},
   "outputs": [
    {
     "data": {
      "image/png": "[encoded data removed]",
      "text/plain": [
       "<Figure size 360x360 with 1 Axes>"
      ]
     },
     "metadata": {
      "needs_background": "light"
     },
     "output_type": "display_data"
    }
   ],
   "source": [
    "# upsampling training dataset\n",
    "max_count = np.max(train_df.label.value_counts())\n",
    "min_count = np.min(train_df.label.value_counts())\n",
    "train_df = train_df.groupby('label').sample(n=max_count, replace=True)\n",
    "train_df = train_df.reset_index(drop=True)\n",
    "train_df.label.value_counts()\n",
    "\n",
    "ax = sns.displot(data=train_df, x='label')"
   ]
  },
  {
   "cell_type": "code",
   "execution_count": 26,
   "id": "39b539ae",
   "metadata": {},
   "outputs": [],
   "source": [
    "model_handle_map = {\n",
    "\n",
    "  \"efficientnetv2-b0\": \"https://tfhub.dev/google/imagenet/efficientnet_v2_imagenet1k_b0/feature_vector/2\"}\n",
    "\n",
    "\n",
    "model_image_size_map = {\n",
    "\n",
    "  \"efficientnetv2-b0\": 224\n",
    "\n",
    "}"
   ]
  },
  {
   "cell_type": "code",
   "execution_count": 27,
   "id": "c9b63d39",
   "metadata": {},
   "outputs": [],
   "source": [
    "def parse_image(path, label):\n",
    "    img = tf.io.read_file(path)\n",
    "    img = tf.image.decode_png(img, channels=3)\n",
    "    return img, label\n",
    "\n",
    "def resize_rescale(image, label):\n",
    "    img = tf.cast(image, tf.float32)\n",
    "    img = tf.image.resize(img, [IMAGE_SIZE, IMAGE_SIZE])/255\n",
    "    return img, label"
   ]
  },
  {
   "cell_type": "code",
   "execution_count": 28,
   "id": "982ac069",
   "metadata": {},
   "outputs": [
    {
     "name": "stdout",
     "output_type": "stream",
     "text": [
      "Selected model: efficientnetv2-b0 : https://tfhub.dev/google/imagenet/efficientnet_v2_imagenet1k_b0/feature_vector/2\n",
      "Input size 224\n"
     ]
    }
   ],
   "source": [
    "model_name = 'efficientnetv2-b0'\n",
    "model_handle = model_handle_map.get(model_name)\n",
    "IMAGE_SIZE = model_image_size_map.get(model_name, 224)\n",
    "BATCH_SIZE = 64\n",
    "EPOCHS = 12\n",
    "SAMPLE_SIZE = len(train_df)\n",
    "\n",
    "print(f\"Selected model: {model_name} : {model_handle}\")\n",
    "print(f\"Input size {IMAGE_SIZE}\")"
   ]
  },
  {
   "cell_type": "code",
   "execution_count": 29,
   "id": "5945248a",
   "metadata": {},
   "outputs": [],
   "source": [
    "train_loader = tf.data.Dataset.from_tensor_slices((img_dir+train_df.path, train_df.label_int))\n",
    "valid_loader = tf.data.Dataset.from_tensor_slices((img_dir+valid_df.path, valid_df.label_int))\n",
    "\n",
    "train_ds = (\n",
    "    train_loader.shuffle(len(train_df))\n",
    "    .map(parse_image, num_parallel_calls=AUTOTUNE)\n",
    "#     .map(partial(augmentor),num_parallel_calls=AUTOTUNE)\n",
    "    .map(resize_rescale, num_parallel_calls=AUTOTUNE)\n",
    "    .batch(BATCH_SIZE)\n",
    "    .prefetch(AUTOTUNE) \n",
    ")\n",
    "valid_ds = (\n",
    "    valid_loader.shuffle(len(valid_df))\n",
    "    .map(parse_image, num_parallel_calls=AUTOTUNE)\n",
    "    .map(resize_rescale, num_parallel_calls=AUTOTUNE)\n",
    "    .batch(BATCH_SIZE)\n",
    "    .prefetch(AUTOTUNE)\n",
    ")"
   ]
  },
  {
   "cell_type": "code",
   "execution_count": 30,
   "id": "00dbcd8f",
   "metadata": {},
   "outputs": [],
   "source": [
    "def build_network(image_size):\n",
    "    print('building model...')\n",
    "    model = tf.keras.Sequential([\n",
    "        layers.InputLayer(input_shape=(image_size, image_size, 3)),\n",
    "        hub.KerasLayer(model_handle, trainable=True, name='base_model'),\n",
    "        layers.Dense(512, activation='relu'),\n",
    "        layers.BatchNormalization(),\n",
    "        layers.Dropout(0.5),\n",
    "        layers.Dense(128, activation='relu'),\n",
    "        layers.BatchNormalization(),\n",
    "        layers.Dense(1, activation='sigmoid', name='classifier') \n",
    "    ],name=model_name)\n",
    "    model.build((None, image_size, image_size, 3))\n",
    "    model.summary()\n",
    "    print('model loaded!!!')\n",
    "    return model"
   ]
  },
  {
   "cell_type": "code",
   "execution_count": 31,
   "id": "d4167abb",
   "metadata": {},
   "outputs": [
    {
     "name": "stdout",
     "output_type": "stream",
     "text": [
      "building model...\n",
      "Model: \"efficientnetv2-b0\"\n",
      "_________________________________________________________________\n",
      " Layer (type)                Output Shape              Param #   \n",
      "=================================================================\n",
      " base_model (KerasLayer)     (None, 1280)              5919312   \n",
      "                                                                 \n",
      " dense (Dense)               (None, 512)               655872    \n",
      "                                                                 \n",
      " batch_normalization (BatchN  (None, 512)              2048      \n",
      " ormalization)                                                   \n",
      "                                                                 \n",
      " dropout (Dropout)           (None, 512)               0         \n",
      "                                                                 \n",
      " dense_1 (Dense)             (None, 128)               65664     \n",
      "                                                                 \n",
      " batch_normalization_1 (Batc  (None, 128)              512       \n",
      " hNormalization)                                                 \n",
      "                                                                 \n",
      " classifier (Dense)          (None, 1)                 129       \n",
      "                                                                 \n",
      "=================================================================\n",
      "Total params: 6,643,537\n",
      "Trainable params: 6,581,649\n",
      "Non-trainable params: 61,888\n",
      "_________________________________________________________________\n",
      "model loaded!!!\n",
      "Epoch 1/12\n",
      "672/672 [==============================] - 5289s 8s/step - loss: 0.0859 - accuracy: 0.9661 - precision: 0.9678 - recall: 0.9643 - val_loss: 0.0257 - val_accuracy: 0.9920 - val_precision: 0.9987 - val_recall: 0.9897\n",
      "Epoch 2/12\n",
      "672/672 [==============================] - 5587s 8s/step - loss: 0.0128 - accuracy: 0.9956 - precision: 0.9955 - recall: 0.9957 - val_loss: 0.0061 - val_accuracy: 0.9983 - val_precision: 0.9994 - val_recall: 0.9981\n",
      "Epoch 3/12\n",
      "672/672 [==============================] - 5565s 8s/step - loss: 0.0059 - accuracy: 0.9984 - precision: 0.9985 - recall: 0.9983 - val_loss: 0.0041 - val_accuracy: 0.9991 - val_precision: 1.0000 - val_recall: 0.9987\n",
      "Epoch 4/12\n",
      "672/672 [==============================] - 5576s 8s/step - loss: 0.0041 - accuracy: 0.9987 - precision: 0.9986 - recall: 0.9989 - val_loss: 0.0028 - val_accuracy: 0.9994 - val_precision: 1.0000 - val_recall: 0.9991\n",
      "Epoch 5/12\n",
      "672/672 [==============================] - 5359s 8s/step - loss: 0.0052 - accuracy: 0.9983 - precision: 0.9982 - recall: 0.9985 - val_loss: 0.0019 - val_accuracy: 0.9992 - val_precision: 1.0000 - val_recall: 0.9989\n",
      "Epoch 6/12\n",
      "672/672 [==============================] - 5284s 8s/step - loss: 0.0164 - accuracy: 0.9948 - precision: 0.9949 - recall: 0.9947 - val_loss: 0.0061 - val_accuracy: 0.9978 - val_precision: 0.9985 - val_recall: 0.9983\n",
      "Epoch 7/12\n",
      "672/672 [==============================] - 5572s 8s/step - loss: 0.0107 - accuracy: 0.9964 - precision: 0.9966 - recall: 0.9963 - val_loss: 0.0020 - val_accuracy: 0.9996 - val_precision: 1.0000 - val_recall: 0.9994\n",
      "Epoch 8/12\n",
      "672/672 [==============================] - 6615s 10s/step - loss: 0.0034 - accuracy: 0.9988 - precision: 0.9988 - recall: 0.9989 - val_loss: 0.0026 - val_accuracy: 0.9995 - val_precision: 1.0000 - val_recall: 0.9993\n",
      "Epoch 9/12\n",
      "672/672 [==============================] - 6671s 10s/step - loss: 0.0035 - accuracy: 0.9989 - precision: 0.9991 - recall: 0.9986 - val_loss: 0.0022 - val_accuracy: 0.9996 - val_precision: 1.0000 - val_recall: 0.9994\n",
      "Epoch 10/12\n",
      "672/672 [==============================] - 6484s 10s/step - loss: 0.0030 - accuracy: 0.9991 - precision: 0.9992 - recall: 0.9991 - val_loss: 0.0017 - val_accuracy: 0.9996 - val_precision: 1.0000 - val_recall: 0.9994\n",
      "Epoch 11/12\n",
      "672/672 [==============================] - 5102s 8s/step - loss: 0.0046 - accuracy: 0.9986 - precision: 0.9983 - recall: 0.9988 - val_loss: 0.0080 - val_accuracy: 0.9977 - val_precision: 1.0000 - val_recall: 0.9966\n",
      "Epoch 12/12\n",
      "672/672 [==============================] - 5555s 8s/step - loss: 0.0028 - accuracy: 0.9991 - precision: 0.9992 - recall: 0.9991 - val_loss: 0.0039 - val_accuracy: 0.9990 - val_precision: 1.0000 - val_recall: 0.9985\n"
     ]
    }
   ],
   "source": [
    "tf.keras.backend.clear_session()\n",
    "model = build_network(IMAGE_SIZE)\n",
    "\n",
    "checkpoint_cb = tf.keras.callbacks.ModelCheckpoint(\"best_model.h5\", save_best_only=True)\n",
    "clr_scheduler = tfa.optimizers.CyclicalLearningRate( \n",
    "    initial_learning_rate=2e-1,  maximal_learning_rate=7e-3, \n",
    "    step_size=3*(SAMPLE_SIZE//BATCH_SIZE),  \n",
    "    scale_fn=lambda x: 1 / (2.0 ** (x - 1)), \n",
    "    scale_mode='cycle'\n",
    ")\n",
    "METRICS = [\n",
    "    'accuracy',\n",
    "    tf.keras.metrics.Precision(name='precision'),\n",
    "    tf.keras.metrics.Recall(name='recall'),\n",
    "]\n",
    "\n",
    "model.compile(\n",
    "    optimizer=tf.keras.optimizers.SGD(learning_rate=clr_scheduler) , \n",
    "    loss=tf.keras.losses.BinaryCrossentropy(), \n",
    "    metrics=METRICS\n",
    ")\n",
    "\n",
    "history = model.fit(\n",
    "    train_ds, \n",
    "    epochs=EPOCHS,\n",
    "    batch_size=BATCH_SIZE,\n",
    "    verbose=1,\n",
    "    callbacks = [checkpoint_cb],\n",
    "    validation_data=valid_ds,\n",
    ")"
   ]
  },
  {
   "cell_type": "code",
   "execution_count": 32,
   "id": "a691fda1",
   "metadata": {},
   "outputs": [],
   "source": [
    "def training_history(history):\n",
    "    accuracy = history['accuracy']\n",
    "    val_accuracy = history['val_accuracy']\n",
    "\n",
    "    loss = history['loss']\n",
    "    val_loss = history['val_loss']\n",
    "\n",
    "    epochs_range = range(len(history['loss']))\n",
    "\n",
    "    plt.figure(figsize=(16, 4))\n",
    "    plt.subplot(1, 2, 1)\n",
    "    plt.plot(epochs_range, accuracy, label='Training accuracy')\n",
    "    plt.plot(epochs_range, val_accuracy, label='Validation accuracy')\n",
    "    plt.legend(loc='lower right')\n",
    "    plt.title('Training and Validation Loss')\n",
    "\n",
    "    plt.subplot(1, 2, 2)\n",
    "    plt.plot(epochs_range, loss, label='Training Loss')\n",
    "    plt.plot(epochs_range, val_loss, label='Validation Loss')\n",
    "    plt.legend(loc='upper right')\n",
    "    plt.title('Training and Validation Loss')\n",
    "\n",
    "    plt.show()\n",
    "    return None"
   ]
  },
  {
   "cell_type": "code",
   "execution_count": 33,
   "id": "070525d1",
   "metadata": {},
   "outputs": [
    {
     "data": {
      "image/png": "[encoded data removed]",
      "text/plain": [
       "<Figure size 1152x288 with 2 Axes>"
      ]
     },
     "metadata": {
      "needs_background": "light"
     },
     "output_type": "display_data"
    }
   ],
   "source": [
    "training_history(history.history)"
   ]
  },
  {
   "cell_type": "code",
   "execution_count": 34,
   "id": "e7ffbcbe",
   "metadata": {},
   "outputs": [],
   "source": [
    "def decode_test(path):\n",
    "    img = tf.io.read_file(path)\n",
    "    img = tf.image.decode_png(img, channels=3)\n",
    "    img = tf.cast(img, tf.float32)\n",
    "    img = tf.image.resize(img, [224, 224])/255\n",
    "    return img"
   ]
  },
  {
   "cell_type": "code",
   "execution_count": 35,
   "id": "af013e87",
   "metadata": {},
   "outputs": [
    {
     "name": "stdout",
     "output_type": "stream",
     "text": [
      "1/1 [==============================] - 15s 15s/step\n",
      "              precision    recall  f1-score   support\n",
      "\n",
      "      benign       0.99      1.00      1.00       300\n",
      "   malignant       1.00      0.99      1.00       300\n",
      "\n",
      "    accuracy                           1.00       600\n",
      "   macro avg       1.00      1.00      1.00       600\n",
      "weighted avg       1.00      1.00      1.00       600\n",
      "\n",
      "f1_score        : 0.9966666666666667\n",
      "accuracy_score  : 0.9966666666666667\n"
     ]
    },
    {
     "data": {
      "image/png": "[encoded data removed]",
      "text/plain": [
       "<Figure size 576x576 with 2 Axes>"
      ]
     },
     "metadata": {
      "needs_background": "light"
     },
     "output_type": "display_data"
    }
   ],
   "source": [
    "test_df = test_df.sample(frac=1).reset_index(drop=True)\n",
    "test_ds = tf.data.Dataset.from_tensor_slices(img_dir+test_df.path) \n",
    "test_ds = test_ds.map(decode_test,num_parallel_calls=AUTOTUNE).batch(len(test_df))\n",
    "test_img = next(iter(test_ds))\n",
    "test_index = test_df.label_int.values\n",
    "test_label = test_df.label.values\n",
    "\n",
    "test_pred = model.predict(test_ds)\n",
    "pred_index = np.round(test_pred).astype('uint8')\n",
    "pred_label = np.array(class_names)[pred_index]\n",
    "\n",
    "print(classification_report(test_index, pred_index, target_names=class_names,zero_division=0))\n",
    "print('f1_score        :', f1_score(test_index, pred_index, average='micro'))\n",
    "print('accuracy_score  :', accuracy_score(test_index, pred_index))\n",
    "\n",
    "cm = skplt.metrics.plot_confusion_matrix(test_label, pred_label, figsize=(8, 8), normalize=False)"
   ]
  },
  {
   "cell_type": "code",
   "execution_count": null,
   "id": "a144e19b",
   "metadata": {},
   "outputs": [],
   "source": []
  }
 ],
 "metadata": {
  "kernelspec": {
   "display_name": "Python 3 (ipykernel)",
   "language": "python",
   "name": "python3"
  },
  "language_info": {
   "codemirror_mode": {
    "name": "ipython",
    "version": 3
   },
   "file_extension": ".py",
   "mimetype": "text/x-python",
   "name": "python",
   "nbconvert_exporter": "python",
   "pygments_lexer": "ipython3",
   "version": "3.9.7"
  }
 },
 "nbformat": 4,
 "nbformat_minor": 5
}
